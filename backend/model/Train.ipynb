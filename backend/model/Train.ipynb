{
 "cells": [
  {
   "cell_type": "code",
   "execution_count": 33,
   "metadata": {},
   "outputs": [
    {
     "output_type": "stream",
     "name": "stderr",
     "text": [
      "[nltk_data] Downloading package punkt to C:\\Users\\Drew\n[nltk_data]     Meseck\\AppData\\Roaming\\nltk_data...\n[nltk_data]   Package punkt is already up-to-date!\n[nltk_data] Downloading package averaged_perceptron_tagger to\n[nltk_data]     C:\\Users\\Drew Meseck\\AppData\\Roaming\\nltk_data...\n[nltk_data]   Package averaged_perceptron_tagger is already up-to-\n[nltk_data]       date!\n"
     ]
    }
   ],
   "source": [
    "import time\n",
    "import nltk\n",
    "import pandas as pd\n",
    "from stop_words import get_stop_words\n",
    "import multiprocessing as mp\n",
    "import re\n",
    "from tqdm import tqdm\n",
    "\n",
    "from sklearn.feature_extraction.text import TfidfVectorizer\n",
    "from sklearn.svm import LinearSVC\n",
    "from sklearn.ensemble import GradientBoostingClassifier, RandomForestClassifier\n",
    "from sklearn.model_selection import train_test_split\n",
    "nltk.download('punkt')\n",
    "nltk.download('averaged_perceptron_tagger')\n",
    "stop_words = get_stop_words('en') "
   ]
  },
  {
   "cell_type": "code",
   "execution_count": 24,
   "metadata": {},
   "outputs": [],
   "source": [
    "df = pd.read_csv('data/spam_review_data.csv', engine= 'python')"
   ]
  },
  {
   "cell_type": "code",
   "execution_count": 25,
   "metadata": {},
   "outputs": [
    {
     "output_type": "execute_result",
     "data": {
      "text/plain": [
       "   Unnamed: 0                                               text polarity  \\\n",
       "0           0  After recent week stay at the Affinia Hotels, ...      pos   \n",
       "1           1  Although much too overpriced in my opinion, th...      pos   \n",
       "2           2  The Affinia hotel in Chicago was superb. the r...      pos   \n",
       "3           3  THIS HOTEL IS FANTASTIC. I stayed there on my ...      pos   \n",
       "4           4  The Affinia Chicago is a wonderful place to st...      pos   \n",
       "\n",
       "  truthful  \n",
       "0      dec  \n",
       "1      dec  \n",
       "2      dec  \n",
       "3      dec  \n",
       "4      dec  "
      ],
      "text/html": "<div>\n<style scoped>\n    .dataframe tbody tr th:only-of-type {\n        vertical-align: middle;\n    }\n\n    .dataframe tbody tr th {\n        vertical-align: top;\n    }\n\n    .dataframe thead th {\n        text-align: right;\n    }\n</style>\n<table border=\"1\" class=\"dataframe\">\n  <thead>\n    <tr style=\"text-align: right;\">\n      <th></th>\n      <th>Unnamed: 0</th>\n      <th>text</th>\n      <th>polarity</th>\n      <th>truthful</th>\n    </tr>\n  </thead>\n  <tbody>\n    <tr>\n      <th>0</th>\n      <td>0</td>\n      <td>After recent week stay at the Affinia Hotels, ...</td>\n      <td>pos</td>\n      <td>dec</td>\n    </tr>\n    <tr>\n      <th>1</th>\n      <td>1</td>\n      <td>Although much too overpriced in my opinion, th...</td>\n      <td>pos</td>\n      <td>dec</td>\n    </tr>\n    <tr>\n      <th>2</th>\n      <td>2</td>\n      <td>The Affinia hotel in Chicago was superb. the r...</td>\n      <td>pos</td>\n      <td>dec</td>\n    </tr>\n    <tr>\n      <th>3</th>\n      <td>3</td>\n      <td>THIS HOTEL IS FANTASTIC. I stayed there on my ...</td>\n      <td>pos</td>\n      <td>dec</td>\n    </tr>\n    <tr>\n      <th>4</th>\n      <td>4</td>\n      <td>The Affinia Chicago is a wonderful place to st...</td>\n      <td>pos</td>\n      <td>dec</td>\n    </tr>\n  </tbody>\n</table>\n</div>"
     },
     "metadata": {},
     "execution_count": 25
    }
   ],
   "source": [
    "df.head()"
   ]
  },
  {
   "cell_type": "code",
   "execution_count": 26,
   "metadata": {},
   "outputs": [],
   "source": [
    "def tokenize_data(text):\n",
    "    text = text.lower()\n",
    "    text = re.sub('[!@#$%^&*-+=_]', '', text)\n",
    "    text = nltk.word_tokenize(text)\n",
    "    text = [word for word in text if word not in stop_words]\n",
    "    text = [word for word in text if len(word) > 2]\n",
    "    #pbar.update(1)\n",
    "    return text\n",
    "    "
   ]
  },
  {
   "cell_type": "code",
   "execution_count": 27,
   "metadata": {},
   "outputs": [],
   "source": [
    "def tknz(col):\n",
    "    return [tokenize_data(row) for row in col]\n"
   ]
  },
  {
   "cell_type": "code",
   "execution_count": 28,
   "metadata": {},
   "outputs": [],
   "source": [
    "df['tokens'] = tknz(df.text)"
   ]
  },
  {
   "cell_type": "code",
   "execution_count": 29,
   "metadata": {},
   "outputs": [],
   "source": [
    "df.to_csv(\"data/train.csv\")"
   ]
  },
  {
   "cell_type": "code",
   "execution_count": 30,
   "metadata": {},
   "outputs": [
    {
     "output_type": "execute_result",
     "data": {
      "text/plain": [
       "   Unnamed: 0                                               text polarity  \\\n",
       "0           0  After recent week stay at the Affinia Hotels, ...      pos   \n",
       "1           1  Although much too overpriced in my opinion, th...      pos   \n",
       "2           2  The Affinia hotel in Chicago was superb. the r...      pos   \n",
       "3           3  THIS HOTEL IS FANTASTIC. I stayed there on my ...      pos   \n",
       "4           4  The Affinia Chicago is a wonderful place to st...      pos   \n",
       "\n",
       "  truthful                                             tokens  \n",
       "0      dec  [recent, week, stay, affinia, hotels, can, def...  \n",
       "1      dec  [although, much, overpriced, opinion, hotel, s...  \n",
       "2      dec  [affinia, hotel, chicago, superb, room, servic...  \n",
       "3      dec  [hotel, fantastic, stayed, way, chicago, towar...  \n",
       "4      dec  [affinia, chicago, wonderful, place, stay, hus...  "
      ],
      "text/html": "<div>\n<style scoped>\n    .dataframe tbody tr th:only-of-type {\n        vertical-align: middle;\n    }\n\n    .dataframe tbody tr th {\n        vertical-align: top;\n    }\n\n    .dataframe thead th {\n        text-align: right;\n    }\n</style>\n<table border=\"1\" class=\"dataframe\">\n  <thead>\n    <tr style=\"text-align: right;\">\n      <th></th>\n      <th>Unnamed: 0</th>\n      <th>text</th>\n      <th>polarity</th>\n      <th>truthful</th>\n      <th>tokens</th>\n    </tr>\n  </thead>\n  <tbody>\n    <tr>\n      <th>0</th>\n      <td>0</td>\n      <td>After recent week stay at the Affinia Hotels, ...</td>\n      <td>pos</td>\n      <td>dec</td>\n      <td>[recent, week, stay, affinia, hotels, can, def...</td>\n    </tr>\n    <tr>\n      <th>1</th>\n      <td>1</td>\n      <td>Although much too overpriced in my opinion, th...</td>\n      <td>pos</td>\n      <td>dec</td>\n      <td>[although, much, overpriced, opinion, hotel, s...</td>\n    </tr>\n    <tr>\n      <th>2</th>\n      <td>2</td>\n      <td>The Affinia hotel in Chicago was superb. the r...</td>\n      <td>pos</td>\n      <td>dec</td>\n      <td>[affinia, hotel, chicago, superb, room, servic...</td>\n    </tr>\n    <tr>\n      <th>3</th>\n      <td>3</td>\n      <td>THIS HOTEL IS FANTASTIC. I stayed there on my ...</td>\n      <td>pos</td>\n      <td>dec</td>\n      <td>[hotel, fantastic, stayed, way, chicago, towar...</td>\n    </tr>\n    <tr>\n      <th>4</th>\n      <td>4</td>\n      <td>The Affinia Chicago is a wonderful place to st...</td>\n      <td>pos</td>\n      <td>dec</td>\n      <td>[affinia, chicago, wonderful, place, stay, hus...</td>\n    </tr>\n  </tbody>\n</table>\n</div>"
     },
     "metadata": {},
     "execution_count": 30
    }
   ],
   "source": [
    "df.head()"
   ]
  },
  {
   "cell_type": "code",
   "execution_count": 39,
   "metadata": {},
   "outputs": [],
   "source": [
    "vec = TfidfVectorizer()\n",
    "doc = [\" \".join(i) for i in df.tokens]\n",
    "X = vec.fit_transform(doc)"
   ]
  },
  {
   "cell_type": "code",
   "execution_count": 42,
   "metadata": {},
   "outputs": [
    {
     "output_type": "execute_result",
     "data": {
      "text/plain": [
       "<1x9423 sparse matrix of type '<class 'numpy.float64'>'\n",
       "\twith 48 stored elements in Compressed Sparse Row format>"
      ]
     },
     "metadata": {},
     "execution_count": 42
    }
   ],
   "source": [
    "X[2]"
   ]
  },
  {
   "cell_type": "code",
   "execution_count": 43,
   "metadata": {},
   "outputs": [],
   "source": [
    "X_train, X_test, y_train, y_test  = train_test_split(\n",
    "    X, df.truthful, test_size= .33, random_state = 42)"
   ]
  },
  {
   "cell_type": "code",
   "execution_count": 44,
   "metadata": {},
   "outputs": [
    {
     "output_type": "execute_result",
     "data": {
      "text/plain": [
       "RandomForestClassifier(max_depth=2, random_state=0)"
      ]
     },
     "metadata": {},
     "execution_count": 44
    }
   ],
   "source": [
    "clf = RandomForestClassifier(max_depth=2, random_state = 0)\n",
    "clf.fit(X_train, y_train)"
   ]
  },
  {
   "cell_type": "code",
   "execution_count": null,
   "metadata": {},
   "outputs": [],
   "source": []
  }
 ],
 "metadata": {
  "kernelspec": {
   "name": "Python 3.8.6 64-bit",
   "display_name": "Python 3.8.6 64-bit",
   "metadata": {
    "interpreter": {
     "hash": "4d4cd283da16e0e4810f47139f06319c6f45ef4d741cdcb652f7d97adbe1ec43"
    }
   }
  },
  "language_info": {
   "codemirror_mode": {
    "name": "ipython",
    "version": 3
   },
   "file_extension": ".py",
   "mimetype": "text/x-python",
   "name": "python",
   "nbconvert_exporter": "python",
   "pygments_lexer": "ipython3",
   "version": "3.8.6-final"
  }
 },
 "nbformat": 4,
 "nbformat_minor": 4
}