{
 "cells": [
  {
   "cell_type": "code",
   "execution_count": 3,
   "metadata": {},
   "outputs": [
    {
     "output_type": "stream",
     "name": "stderr",
     "text": [
      "[nltk_data] Downloading package punkt to\n",
      "[nltk_data]     C:\\Users\\droot\\AppData\\Roaming\\nltk_data...\n",
      "[nltk_data]   Unzipping tokenizers\\punkt.zip.\n",
      "[nltk_data] Downloading package averaged_perceptron_tagger to\n",
      "[nltk_data]     C:\\Users\\droot\\AppData\\Roaming\\nltk_data...\n",
      "[nltk_data]   Unzipping taggers\\averaged_perceptron_tagger.zip.\n"
     ]
    }
   ],
   "source": [
    "import time\n",
    "import nltk\n",
    "import pandas as pd\n",
    "from stop_words import get_stop_words\n",
    "import multiprocessing as mp\n",
    "import re\n",
    "from tqdm import tqdm\n",
    "\n",
    "nltk.download('punkt')\n",
    "nltk.download('averaged_perceptron_tagger')\n",
    "stop_words = get_stop_words('en') "
   ]
  },
  {
   "cell_type": "code",
   "execution_count": 4,
   "metadata": {},
   "outputs": [],
   "source": [
    "df = pd.read_csv('data/spam_review_data.csv', engine= 'python')"
   ]
  },
  {
   "cell_type": "code",
   "execution_count": 5,
   "metadata": {},
   "outputs": [
    {
     "output_type": "execute_result",
     "data": {
      "text/plain": [
       "   Unnamed: 0                                               text polarity  \\\n",
       "0           0  After recent week stay at the Affinia Hotels, ...      pos   \n",
       "1           1  Although much too overpriced in my opinion, th...      pos   \n",
       "2           2  The Affinia hotel in Chicago was superb. the r...      pos   \n",
       "3           3  THIS HOTEL IS FANTASTIC. I stayed there on my ...      pos   \n",
       "4           4  The Affinia Chicago is a wonderful place to st...      pos   \n",
       "\n",
       "  truthful  \n",
       "0      dec  \n",
       "1      dec  \n",
       "2      dec  \n",
       "3      dec  \n",
       "4      dec  "
      ],
      "text/html": "<div>\n<style scoped>\n    .dataframe tbody tr th:only-of-type {\n        vertical-align: middle;\n    }\n\n    .dataframe tbody tr th {\n        vertical-align: top;\n    }\n\n    .dataframe thead th {\n        text-align: right;\n    }\n</style>\n<table border=\"1\" class=\"dataframe\">\n  <thead>\n    <tr style=\"text-align: right;\">\n      <th></th>\n      <th>Unnamed: 0</th>\n      <th>text</th>\n      <th>polarity</th>\n      <th>truthful</th>\n    </tr>\n  </thead>\n  <tbody>\n    <tr>\n      <th>0</th>\n      <td>0</td>\n      <td>After recent week stay at the Affinia Hotels, ...</td>\n      <td>pos</td>\n      <td>dec</td>\n    </tr>\n    <tr>\n      <th>1</th>\n      <td>1</td>\n      <td>Although much too overpriced in my opinion, th...</td>\n      <td>pos</td>\n      <td>dec</td>\n    </tr>\n    <tr>\n      <th>2</th>\n      <td>2</td>\n      <td>The Affinia hotel in Chicago was superb. the r...</td>\n      <td>pos</td>\n      <td>dec</td>\n    </tr>\n    <tr>\n      <th>3</th>\n      <td>3</td>\n      <td>THIS HOTEL IS FANTASTIC. I stayed there on my ...</td>\n      <td>pos</td>\n      <td>dec</td>\n    </tr>\n    <tr>\n      <th>4</th>\n      <td>4</td>\n      <td>The Affinia Chicago is a wonderful place to st...</td>\n      <td>pos</td>\n      <td>dec</td>\n    </tr>\n  </tbody>\n</table>\n</div>"
     },
     "metadata": {},
     "execution_count": 5
    }
   ],
   "source": [
    "df.head()"
   ]
  },
  {
   "cell_type": "code",
   "execution_count": 6,
   "metadata": {},
   "outputs": [],
   "source": [
    "def tokenize_data(text):\n",
    "    text = re.sub('[!@#$%^&*-+=_]', '', text)\n",
    "    text = nltk.word_tokenize(text)\n",
    "    text = [word for word in text if word not in stop_words]\n",
    "    text = [word for word in text if len(word) > 2]\n",
    "    #pbar.update(1)\n",
    "    return nltk.pos_tag(text)\n",
    "    "
   ]
  },
  {
   "cell_type": "code",
   "execution_count": 9,
   "metadata": {},
   "outputs": [
    {
     "output_type": "execute_result",
     "data": {
      "text/plain": [
       "tuple"
      ]
     },
     "metadata": {},
     "execution_count": 9
    }
   ],
   "source": [
    "sample_text = df.text[0]\n",
    "type(tokenize_data(sample_text)[0])"
   ]
  },
  {
   "cell_type": "code",
   "execution_count": 10,
   "metadata": {},
   "outputs": [],
   "source": [
    "def tknz(col):\n",
    "    return [tokenize_data(row) for row in col]\n"
   ]
  },
  {
   "cell_type": "code",
   "execution_count": 10,
   "metadata": {},
   "outputs": [],
   "source": [
    "df['tokens'] = tknz(df.text)"
   ]
  },
  {
   "cell_type": "code",
   "execution_count": 11,
   "metadata": {},
   "outputs": [],
   "source": [
    "df.to_csv(\"data/train.csv\")"
   ]
  },
  {
   "cell_type": "code",
   "execution_count": 12,
   "metadata": {},
   "outputs": [
    {
     "output_type": "execute_result",
     "data": {
      "text/plain": [
       "   Unnamed: 0                                               text polarity  \\\n",
       "0           0  After recent week stay at the Affinia Hotels, ...      pos   \n",
       "1           1  Although much too overpriced in my opinion, th...      pos   \n",
       "2           2  The Affinia hotel in Chicago was superb. the r...      pos   \n",
       "3           3  THIS HOTEL IS FANTASTIC. I stayed there on my ...      pos   \n",
       "4           4  The Affinia Chicago is a wonderful place to st...      pos   \n",
       "\n",
       "  truthful                                             tokens  \n",
       "0      dec  [(After, IN), (recent, JJ), (week, NN), (stay,...  \n",
       "1      dec  [(Although, IN), (much, RB), (overpriced, VBN)...  \n",
       "2      dec  [(The, DT), (Affinia, NNP), (hotel, NN), (Chic...  \n",
       "3      dec  [(THIS, NNP), (HOTEL, NNP), (FANTASTIC, NNP), ...  \n",
       "4      dec  [(The, DT), (Affinia, NNP), (Chicago, NNP), (w...  "
      ],
      "text/html": "<div>\n<style scoped>\n    .dataframe tbody tr th:only-of-type {\n        vertical-align: middle;\n    }\n\n    .dataframe tbody tr th {\n        vertical-align: top;\n    }\n\n    .dataframe thead th {\n        text-align: right;\n    }\n</style>\n<table border=\"1\" class=\"dataframe\">\n  <thead>\n    <tr style=\"text-align: right;\">\n      <th></th>\n      <th>Unnamed: 0</th>\n      <th>text</th>\n      <th>polarity</th>\n      <th>truthful</th>\n      <th>tokens</th>\n    </tr>\n  </thead>\n  <tbody>\n    <tr>\n      <th>0</th>\n      <td>0</td>\n      <td>After recent week stay at the Affinia Hotels, ...</td>\n      <td>pos</td>\n      <td>dec</td>\n      <td>[(After, IN), (recent, JJ), (week, NN), (stay,...</td>\n    </tr>\n    <tr>\n      <th>1</th>\n      <td>1</td>\n      <td>Although much too overpriced in my opinion, th...</td>\n      <td>pos</td>\n      <td>dec</td>\n      <td>[(Although, IN), (much, RB), (overpriced, VBN)...</td>\n    </tr>\n    <tr>\n      <th>2</th>\n      <td>2</td>\n      <td>The Affinia hotel in Chicago was superb. the r...</td>\n      <td>pos</td>\n      <td>dec</td>\n      <td>[(The, DT), (Affinia, NNP), (hotel, NN), (Chic...</td>\n    </tr>\n    <tr>\n      <th>3</th>\n      <td>3</td>\n      <td>THIS HOTEL IS FANTASTIC. I stayed there on my ...</td>\n      <td>pos</td>\n      <td>dec</td>\n      <td>[(THIS, NNP), (HOTEL, NNP), (FANTASTIC, NNP), ...</td>\n    </tr>\n    <tr>\n      <th>4</th>\n      <td>4</td>\n      <td>The Affinia Chicago is a wonderful place to st...</td>\n      <td>pos</td>\n      <td>dec</td>\n      <td>[(The, DT), (Affinia, NNP), (Chicago, NNP), (w...</td>\n    </tr>\n  </tbody>\n</table>\n</div>"
     },
     "metadata": {},
     "execution_count": 12
    }
   ],
   "source": [
    "df.head()"
   ]
  },
  {
   "cell_type": "code",
   "execution_count": null,
   "metadata": {},
   "outputs": [],
   "source": []
  }
 ],
 "metadata": {
  "kernelspec": {
   "name": "Python 3.8.6 64-bit",
   "display_name": "Python 3.8.6 64-bit",
   "metadata": {
    "interpreter": {
     "hash": "4d4cd283da16e0e4810f47139f06319c6f45ef4d741cdcb652f7d97adbe1ec43"
    }
   }
  },
  "language_info": {
   "codemirror_mode": {
    "name": "ipython",
    "version": 3
   },
   "file_extension": ".py",
   "mimetype": "text/x-python",
   "name": "python",
   "nbconvert_exporter": "python",
   "pygments_lexer": "ipython3",
   "version": "3.8.6-final"
  }
 },
 "nbformat": 4,
 "nbformat_minor": 4
}