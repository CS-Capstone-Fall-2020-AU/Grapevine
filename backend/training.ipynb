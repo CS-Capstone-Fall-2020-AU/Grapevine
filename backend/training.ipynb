{
 "metadata": {
  "language_info": {
   "codemirror_mode": {
    "name": "ipython",
    "version": 3
   },
   "file_extension": ".py",
   "mimetype": "text/x-python",
   "name": "python",
   "nbconvert_exporter": "python",
   "pygments_lexer": "ipython3",
   "version": "3.8.6-final"
  },
  "orig_nbformat": 2,
  "kernelspec": {
   "name": "Python 3.8.6 64-bit",
   "display_name": "Python 3.8.6 64-bit",
   "metadata": {
    "interpreter": {
     "hash": "4d4cd283da16e0e4810f47139f06319c6f45ef4d741cdcb652f7d97adbe1ec43"
    }
   }
  }
 },
 "nbformat": 4,
 "nbformat_minor": 2,
 "cells": [
  {
   "source": [
    "import pandas as pd\n",
    "import numpy as np\n",
    "from sklearn.feature_extraction import DictVectorizer\n",
    "from sklearn.svm import LinearSVC\n",
    "from sklearn.ensemble import GradientBoostingClassifier, RandomForestClassifier"
   ],
   "cell_type": "code",
   "metadata": {},
   "execution_count": 10,
   "outputs": []
  },
  {
   "cell_type": "code",
   "execution_count": 18,
   "metadata": {},
   "outputs": [],
   "source": [
    "def get_feature(token, token_index, sent, pos_lab):\n",
    "    #returns different information about the token for characterization\n",
    "    token_feature = {\n",
    "        'token'             : token.lower(),                        #returns the lowercase text of the token itself\n",
    "        'pos_lab'           : pos_lab,                               #Part of speech of the token\n",
    "        'is_first'          : token_index == 0,                     #Is the token the first in the sentence\n",
    "        'is_last'           : token_index == len(sent - 1),         #Is the token the last in the sentence\n",
    "        \n",
    "        'is_capitalized'    : token[0].upper() == token[0],         #Is the first letter capitalized\n",
    "        'is_all_caps'       : token.upper() == token,               #Is the whole word in caps\n",
    "        'is_numeric'        : token.isdigit(),                      #are there any digits in the token?\n",
    "        \n",
    "        'prefix-1'          : token[0].lower(),                             #token prefix w/one letter\n",
    "        'prefix-2'          : token[:1].lower(),                            #token prefix w/two letters\n",
    "        'suffix-1'          : token[-1].lower(),                            #token suffix w/one letter\n",
    "        'suffix-2'          : '' if len(token) < 2 else token[-2:], #token suffix w/two letters\n",
    "\n",
    "        'prev-token'        : '' if token_index == 0 else sent[token_index - 1].lower(), #token immediately proceeding this token\n",
    "        '2-prev-token'      : '' if token_index >= len(sent) - 2 else sent[token_index - 2].lower(), #token two preceeding this token\n",
    "        'next-token'        : '' if token_index == len(sent) - 1 else sent[token_index + 1].lower(), #token after this token\n",
    "        '2-next-token'      : '' if token_index >= len(sent) - 2 else sent[token_index + 2].lower(), #token 2 after this token\n",
    "    }\n",
    "    return token_feature"
   ]
  },
  {
   "cell_type": "code",
   "execution_count": 17,
   "metadata": {},
   "outputs": [],
   "source": [
    "def form_data(reviews):\n",
    "    features = []\n",
    "    for rev in reviews:\n",
    "        for token_index, token_pair in enumerate(rev):\n",
    "            token, pos_lab = token_pair\n",
    "            features.append(get_feature(token, token_index, rev, pos_lab))\n",
    "    return features\n",
    "            "
   ]
  },
  {
   "cell_type": "code",
   "execution_count": null,
   "metadata": {},
   "outputs": [],
   "source": []
  }
 ]
}