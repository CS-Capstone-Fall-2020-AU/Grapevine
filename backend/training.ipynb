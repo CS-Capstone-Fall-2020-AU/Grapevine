{
 "metadata": {
  "language_info": {
   "codemirror_mode": {
    "name": "ipython",
    "version": 3
   },
   "file_extension": ".py",
   "mimetype": "text/x-python",
   "name": "python",
   "nbconvert_exporter": "python",
   "pygments_lexer": "ipython3",
   "version": "3.8.6-final"
  },
  "orig_nbformat": 2,
  "kernelspec": {
   "name": "Python 3.8.6 64-bit",
   "display_name": "Python 3.8.6 64-bit",
   "metadata": {
    "interpreter": {
     "hash": "4d4cd283da16e0e4810f47139f06319c6f45ef4d741cdcb652f7d97adbe1ec43"
    }
   }
  }
 },
 "nbformat": 4,
 "nbformat_minor": 2,
 "cells": [
  {
   "source": [
    "import pandas as pd\n",
    "import numpy as np\n",
    "from sklearn.feature_extraction import DictVectorizer\n",
    "from sklearn.svm import LinearSVC\n",
    "from sklearn.ensemble import GradientBoostingClassifier, RandomForestClassifier"
   ],
   "cell_type": "code",
   "metadata": {},
   "execution_count": 2,
   "outputs": []
  },
  {
   "cell_type": "code",
   "execution_count": 5,
   "metadata": {},
   "outputs": [],
   "source": [
    "df = pd.read_csv(\"model/data/train.csv\")"
   ]
  },
  {
   "cell_type": "code",
   "execution_count": 6,
   "metadata": {},
   "outputs": [
    {
     "output_type": "execute_result",
     "data": {
      "text/plain": [
       "   Unnamed: 0  Unnamed: 0.1  \\\n",
       "0           0             0   \n",
       "1           1             1   \n",
       "2           2             2   \n",
       "3           3             3   \n",
       "4           4             4   \n",
       "\n",
       "                                                text polarity truthful  \\\n",
       "0  After recent week stay at the Affinia Hotels, ...      pos      dec   \n",
       "1  Although much too overpriced in my opinion, th...      pos      dec   \n",
       "2  The Affinia hotel in Chicago was superb. the r...      pos      dec   \n",
       "3  THIS HOTEL IS FANTASTIC. I stayed there on my ...      pos      dec   \n",
       "4  The Affinia Chicago is a wonderful place to st...      pos      dec   \n",
       "\n",
       "                                              tokens  \n",
       "0  [('After', 'IN'), ('recent', 'JJ'), ('week', '...  \n",
       "1  [('Although', 'IN'), ('much', 'RB'), ('overpri...  \n",
       "2  [('The', 'DT'), ('Affinia', 'NNP'), ('hotel', ...  \n",
       "3  [('THIS', 'NNP'), ('HOTEL', 'NNP'), ('FANTASTI...  \n",
       "4  [('The', 'DT'), ('Affinia', 'NNP'), ('Chicago'...  "
      ],
      "text/html": "<div>\n<style scoped>\n    .dataframe tbody tr th:only-of-type {\n        vertical-align: middle;\n    }\n\n    .dataframe tbody tr th {\n        vertical-align: top;\n    }\n\n    .dataframe thead th {\n        text-align: right;\n    }\n</style>\n<table border=\"1\" class=\"dataframe\">\n  <thead>\n    <tr style=\"text-align: right;\">\n      <th></th>\n      <th>Unnamed: 0</th>\n      <th>Unnamed: 0.1</th>\n      <th>text</th>\n      <th>polarity</th>\n      <th>truthful</th>\n      <th>tokens</th>\n    </tr>\n  </thead>\n  <tbody>\n    <tr>\n      <th>0</th>\n      <td>0</td>\n      <td>0</td>\n      <td>After recent week stay at the Affinia Hotels, ...</td>\n      <td>pos</td>\n      <td>dec</td>\n      <td>[('After', 'IN'), ('recent', 'JJ'), ('week', '...</td>\n    </tr>\n    <tr>\n      <th>1</th>\n      <td>1</td>\n      <td>1</td>\n      <td>Although much too overpriced in my opinion, th...</td>\n      <td>pos</td>\n      <td>dec</td>\n      <td>[('Although', 'IN'), ('much', 'RB'), ('overpri...</td>\n    </tr>\n    <tr>\n      <th>2</th>\n      <td>2</td>\n      <td>2</td>\n      <td>The Affinia hotel in Chicago was superb. the r...</td>\n      <td>pos</td>\n      <td>dec</td>\n      <td>[('The', 'DT'), ('Affinia', 'NNP'), ('hotel', ...</td>\n    </tr>\n    <tr>\n      <th>3</th>\n      <td>3</td>\n      <td>3</td>\n      <td>THIS HOTEL IS FANTASTIC. I stayed there on my ...</td>\n      <td>pos</td>\n      <td>dec</td>\n      <td>[('THIS', 'NNP'), ('HOTEL', 'NNP'), ('FANTASTI...</td>\n    </tr>\n    <tr>\n      <th>4</th>\n      <td>4</td>\n      <td>4</td>\n      <td>The Affinia Chicago is a wonderful place to st...</td>\n      <td>pos</td>\n      <td>dec</td>\n      <td>[('The', 'DT'), ('Affinia', 'NNP'), ('Chicago'...</td>\n    </tr>\n  </tbody>\n</table>\n</div>"
     },
     "metadata": {},
     "execution_count": 6
    }
   ],
   "source": [
    "df.head()"
   ]
  },
  {
   "cell_type": "code",
   "execution_count": 3,
   "metadata": {},
   "outputs": [],
   "source": [
    "def get_feature(token, token_index, sent, pos_lab):\n",
    "    #returns different information about the token for characterization\n",
    "    token_feature = {\n",
    "        'token'             : token.lower(),                        #returns the lowercase text of the token itself\n",
    "        'pos_lab'           : pos_lab,                               #Part of speech of the token\n",
    "        'is_first'          : token_index == 0,                     #Is the token the first in the sentence\n",
    "        'is_last'           : token_index == len(sent - 1),         #Is the token the last in the sentence\n",
    "        \n",
    "        'is_capitalized'    : token[0].upper() == token[0],         #Is the first letter capitalized\n",
    "        'is_all_caps'       : token.upper() == token,               #Is the whole word in caps\n",
    "        'is_numeric'        : token.isdigit(),                      #are there any digits in the token?\n",
    "        \n",
    "        'prefix-1'          : token[0].lower(),                             #token prefix w/one letter\n",
    "        'prefix-2'          : token[:1].lower(),                            #token prefix w/two letters\n",
    "        'suffix-1'          : token[-1].lower(),                            #token suffix w/one letter\n",
    "        'suffix-2'          : '' if len(token) < 2 else token[-2:], #token suffix w/two letters\n",
    "\n",
    "        'prev-token'        : '' if token_index == 0 else sent[token_index - 1].lower(), #token immediately proceeding this token\n",
    "        '2-prev-token'      : '' if token_index >= len(sent) - 2 else sent[token_index - 2].lower(), #token two preceeding this token\n",
    "        'next-token'        : '' if token_index == len(sent) - 1 else sent[token_index + 1].lower(), #token after this token\n",
    "        '2-next-token'      : '' if token_index >= len(sent) - 2 else sent[token_index + 2].lower(), #token 2 after this token\n",
    "    }   \n",
    "    return token_feature"
   ]
  },
  {
   "cell_type": "code",
   "execution_count": 4,
   "metadata": {},
   "outputs": [],
   "source": [
    "def form_data(reviews):\n",
    "    features = []\n",
    "    for rev in reviews:\n",
    "        for token_index, token_pair in enumerate(rev):\n",
    "            token, pos_lab = token_pair\n",
    "            features.append(get_feature(token, token_index, rev, pos_lab))\n",
    "    return features\n",
    "            "
   ]
  },
  {
   "cell_type": "code",
   "execution_count": 17,
   "metadata": {},
   "outputs": [
    {
     "output_type": "execute_result",
     "data": {
      "text/plain": [
       "\"[('After', 'IN'), ('recent', 'JJ'), ('week', 'NN'), ('stay', 'VBP'), ('Affinia', 'NNP'), ('Hotels', 'NNP'), ('can', 'MD'), ('definitely', 'RB'), ('say', 'VB'), ('will', 'MD'), ('coming', 'VBG'), ('back', 'RB'), ('They', 'PRP'), ('offer', 'VBP'), ('many', 'JJ'), ('room', 'NN'), ('amenities', 'NNS'), ('services', 'NNS'), ('Just', 'NNP'), ('comfortable', 'JJ'), ('relaxed', 'JJ'), ('place', 'NN'), ('enjoyable', 'JJ'), ('experience', 'NN'), ('Affinia', 'NNP'), ('Hotel', 'NNP'), ('amazing', 'VBG'), ('customization', 'NN'), ('offered', 'VBD'), ('recommend', 'JJ'), ('Affinia', 'NNP'), ('hotels', 'NNS'), ('anyone', 'NN'), ('looking', 'VBG'), ('nice', 'JJ'), ('place', 'NN'), ('stay', 'NN')]\""
      ]
     },
     "metadata": {},
     "execution_count": 17
    }
   ],
   "source": [
    "df.tokens[0]\n",
    "# vecx = form_data(reviews)"
   ]
  },
  {
   "cell_type": "code",
   "execution_count": null,
   "metadata": {},
   "outputs": [],
   "source": []
  }
 ]
}