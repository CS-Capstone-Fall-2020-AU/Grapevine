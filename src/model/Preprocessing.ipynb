{
 "cells": [
  {
   "cell_type": "code",
   "execution_count": 28,
   "metadata": {},
   "outputs": [
    {
     "output_type": "stream",
     "name": "stderr",
     "text": [
      "[nltk_data] Downloading package punkt to C:\\Users\\Drew\n[nltk_data]     Meseck\\AppData\\Roaming\\nltk_data...\n[nltk_data]   Package punkt is already up-to-date!\n[nltk_data] Downloading package averaged_perceptron_tagger to\n[nltk_data]     C:\\Users\\Drew Meseck\\AppData\\Roaming\\nltk_data...\n[nltk_data]   Package averaged_perceptron_tagger is already up-to-\n[nltk_data]       date!\n"
     ]
    }
   ],
   "source": [
    "import time\n",
    "import nltk\n",
    "import pandas\n",
    "from stop_words import get_stop_words\n",
    "import multiprocessing as mp\n",
    "import re\n",
    "from tqdm import tqdm\n",
    "\n",
    "nltk.download('punkt')\n",
    "nltk.download('averaged_perceptron_tagger')\n",
    "stop_words = get_stop_words('en') "
   ]
  },
  {
   "cell_type": "code",
   "execution_count": 29,
   "metadata": {},
   "outputs": [],
   "source": [
    "df = pandas.read_csv('data/company_review_raw.csv', engine= 'python')"
   ]
  },
  {
   "cell_type": "code",
   "execution_count": 30,
   "metadata": {},
   "outputs": [
    {
     "output_type": "execute_result",
     "data": {
      "text/plain": [
       "   id company                                               pros  \\\n",
       "0   1  google                      People are smart and friendly   \n",
       "1   2  google  1) Food, food, food. 15+ cafes on main campus ...   \n",
       "2   3  google  * If you're a software engineer, you're among ...   \n",
       "3   4  google  You can't find a more well-regarded company th...   \n",
       "4   5  google  Google is a world of its own. At every other c...   \n",
       "\n",
       "                                                cons  overall-ratings  \\\n",
       "0                 Bureaucracy is slowing things down                5   \n",
       "1  1) Work/life balance. What balance? All those ...                4   \n",
       "2  * It *is* becoming larger, and with it comes g...                5   \n",
       "3  I live in SF so the commute can take between 1...                5   \n",
       "4  If you don't work in MTV (HQ), you will be giv...                5   \n",
       "\n",
       "   work-balance-stars  culture-values-stars  career-opportunities-stars  \\\n",
       "0                 4.0                     5                         5.0   \n",
       "1                 2.0                     3                         3.0   \n",
       "2                 5.0                     4                         5.0   \n",
       "3                 2.0                     5                         5.0   \n",
       "4                 5.0                     5                         5.0   \n",
       "\n",
       "   comp-benefit-stars  senior-management-stars  \n",
       "0                 4.0                      5.0  \n",
       "1                 5.0                      3.0  \n",
       "2                 5.0                      4.0  \n",
       "3                 4.0                      5.0  \n",
       "4                 5.0                      5.0  "
      ],
      "text/html": "<div>\n<style scoped>\n    .dataframe tbody tr th:only-of-type {\n        vertical-align: middle;\n    }\n\n    .dataframe tbody tr th {\n        vertical-align: top;\n    }\n\n    .dataframe thead th {\n        text-align: right;\n    }\n</style>\n<table border=\"1\" class=\"dataframe\">\n  <thead>\n    <tr style=\"text-align: right;\">\n      <th></th>\n      <th>id</th>\n      <th>company</th>\n      <th>pros</th>\n      <th>cons</th>\n      <th>overall-ratings</th>\n      <th>work-balance-stars</th>\n      <th>culture-values-stars</th>\n      <th>career-opportunities-stars</th>\n      <th>comp-benefit-stars</th>\n      <th>senior-management-stars</th>\n    </tr>\n  </thead>\n  <tbody>\n    <tr>\n      <th>0</th>\n      <td>1</td>\n      <td>google</td>\n      <td>People are smart and friendly</td>\n      <td>Bureaucracy is slowing things down</td>\n      <td>5</td>\n      <td>4.0</td>\n      <td>5</td>\n      <td>5.0</td>\n      <td>4.0</td>\n      <td>5.0</td>\n    </tr>\n    <tr>\n      <th>1</th>\n      <td>2</td>\n      <td>google</td>\n      <td>1) Food, food, food. 15+ cafes on main campus ...</td>\n      <td>1) Work/life balance. What balance? All those ...</td>\n      <td>4</td>\n      <td>2.0</td>\n      <td>3</td>\n      <td>3.0</td>\n      <td>5.0</td>\n      <td>3.0</td>\n    </tr>\n    <tr>\n      <th>2</th>\n      <td>3</td>\n      <td>google</td>\n      <td>* If you're a software engineer, you're among ...</td>\n      <td>* It *is* becoming larger, and with it comes g...</td>\n      <td>5</td>\n      <td>5.0</td>\n      <td>4</td>\n      <td>5.0</td>\n      <td>5.0</td>\n      <td>4.0</td>\n    </tr>\n    <tr>\n      <th>3</th>\n      <td>4</td>\n      <td>google</td>\n      <td>You can't find a more well-regarded company th...</td>\n      <td>I live in SF so the commute can take between 1...</td>\n      <td>5</td>\n      <td>2.0</td>\n      <td>5</td>\n      <td>5.0</td>\n      <td>4.0</td>\n      <td>5.0</td>\n    </tr>\n    <tr>\n      <th>4</th>\n      <td>5</td>\n      <td>google</td>\n      <td>Google is a world of its own. At every other c...</td>\n      <td>If you don't work in MTV (HQ), you will be giv...</td>\n      <td>5</td>\n      <td>5.0</td>\n      <td>5</td>\n      <td>5.0</td>\n      <td>5.0</td>\n      <td>5.0</td>\n    </tr>\n  </tbody>\n</table>\n</div>"
     },
     "metadata": {},
     "execution_count": 30
    }
   ],
   "source": [
    "df.head()"
   ]
  },
  {
   "cell_type": "code",
   "execution_count": 31,
   "metadata": {},
   "outputs": [],
   "source": [
    "df['text'] = df.pros + ' ' + df.cons"
   ]
  },
  {
   "cell_type": "code",
   "execution_count": 32,
   "metadata": {},
   "outputs": [],
   "source": [
    "def tokenize_data(text):\n",
    "    text = text.lower()\n",
    "    text = re.sub('[!@#$%^&*-+=_]', '', text)\n",
    "    text = nltk.word_tokenize(text)\n",
    "    text = [word for word in text if word not in stop_words]\n",
    "    text = [word for word in text if len(word) > 2]\n",
    "    #pbar.update(1)\n",
    "    return nltk.pos_tag(text)\n",
    "    "
   ]
  },
  {
   "cell_type": "code",
   "execution_count": 33,
   "metadata": {},
   "outputs": [
    {
     "output_type": "stream",
     "name": "stdout",
     "text": [
      "[('people', 'NNS'), ('smart', 'VBP'), ('friendly', 'JJ'), ('bureaucracy', 'NN'), ('slowing', 'VBG'), ('things', 'NNS')]\n"
     ]
    }
   ],
   "source": [
    "sample_text = df.text[0]\n",
    "print(tokenize_data(sample_text))"
   ]
  },
  {
   "cell_type": "code",
   "execution_count": 34,
   "metadata": {},
   "outputs": [],
   "source": [
    "def tknz(col):\n",
    "    return [tokenize_data(row) for row in col]\n"
   ]
  },
  {
   "cell_type": "code",
   "execution_count": 35,
   "metadata": {},
   "outputs": [],
   "source": [
    "df['tokens'] = tknz(df.text)"
   ]
  },
  {
   "cell_type": "code",
   "execution_count": 36,
   "metadata": {},
   "outputs": [],
   "source": [
    "df.to_csv(\"data/train.csv\")"
   ]
  }
 ],
 "metadata": {
  "kernelspec": {
   "name": "Python 3.8.6 64-bit",
   "display_name": "Python 3.8.6 64-bit",
   "metadata": {
    "interpreter": {
     "hash": "4d4cd283da16e0e4810f47139f06319c6f45ef4d741cdcb652f7d97adbe1ec43"
    }
   }
  },
  "language_info": {
   "codemirror_mode": {
    "name": "ipython",
    "version": 3
   },
   "file_extension": ".py",
   "mimetype": "text/x-python",
   "name": "python",
   "nbconvert_exporter": "python",
   "pygments_lexer": "ipython3",
   "version": "3.8.6-final"
  }
 },
 "nbformat": 4,
 "nbformat_minor": 4
}